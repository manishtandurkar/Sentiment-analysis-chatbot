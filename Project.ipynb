{
 "cells": [
  {
   "cell_type": "code",
   "execution_count": null,
   "id": "df6a8d12-25fa-4361-b3ff-2fccbadaf360",
   "metadata": {},
   "outputs": [],
   "source": [
    "import pandas as pd\n",
    "import nltk\n",
    "from nltk.tokenize import word_tokenize\n",
    "from nltk.corpus import stopwords\n",
    "from nltk.stem import PorterStemmer\n",
    "from sklearn.feature_extraction.text import TfidfVectorizer\n",
    "from sklearn.linear_model import LogisticRegression\n",
    "from sklearn.model_selection import train_test_split\n",
    "from sklearn.metrics import accuracy_score"
   ]
  },
  {
   "cell_type": "code",
   "execution_count": null,
   "id": "05fc3de9-88a5-4e17-871e-fb1357938e0d",
   "metadata": {},
   "outputs": [
    {
     "data": {
      "text/html": [
       "<div>\n",
       "<style scoped>\n",
       "    .dataframe tbody tr th:only-of-type {\n",
       "        vertical-align: middle;\n",
       "    }\n",
       "\n",
       "    .dataframe tbody tr th {\n",
       "        vertical-align: top;\n",
       "    }\n",
       "\n",
       "    .dataframe thead th {\n",
       "        text-align: right;\n",
       "    }\n",
       "</style>\n",
       "<table border=\"1\" class=\"dataframe\">\n",
       "  <thead>\n",
       "    <tr style=\"text-align: right;\">\n",
       "      <th></th>\n",
       "      <th>polarity</th>\n",
       "      <th>text</th>\n",
       "    </tr>\n",
       "  </thead>\n",
       "  <tbody>\n",
       "    <tr>\n",
       "      <th>0</th>\n",
       "      <td>negative</td>\n",
       "      <td>@switchfoot http://twitpic.com/2y1zl - Awww, t...</td>\n",
       "    </tr>\n",
       "    <tr>\n",
       "      <th>1</th>\n",
       "      <td>negative</td>\n",
       "      <td>is upset that he can't update his Facebook by ...</td>\n",
       "    </tr>\n",
       "    <tr>\n",
       "      <th>2</th>\n",
       "      <td>negative</td>\n",
       "      <td>@Kenichan I dived many times for the ball. Man...</td>\n",
       "    </tr>\n",
       "    <tr>\n",
       "      <th>3</th>\n",
       "      <td>negative</td>\n",
       "      <td>my whole body feels itchy and like its on fire</td>\n",
       "    </tr>\n",
       "    <tr>\n",
       "      <th>4</th>\n",
       "      <td>negative</td>\n",
       "      <td>@nationwideclass no, it's not behaving at all....</td>\n",
       "    </tr>\n",
       "  </tbody>\n",
       "</table>\n",
       "</div>"
      ],
      "text/plain": [
       "   polarity                                               text\n",
       "0  negative  @switchfoot http://twitpic.com/2y1zl - Awww, t...\n",
       "1  negative  is upset that he can't update his Facebook by ...\n",
       "2  negative  @Kenichan I dived many times for the ball. Man...\n",
       "3  negative    my whole body feels itchy and like its on fire \n",
       "4  negative  @nationwideclass no, it's not behaving at all...."
      ]
     },
     "execution_count": 2,
     "metadata": {},
     "output_type": "execute_result"
    }
   ],
   "source": [
    "data = pd.read_csv('Sentiment.csv', encoding='ISO-8859-1', header=None)\n",
    "data.columns = ['polarity', 'id', 'date', 'query', 'user', 'text']\n",
    "data = data[['polarity', 'text']]\n",
    "data['polarity'] = data['polarity'].replace({0: 'negative', 4: 'positive'})\n",
    "\n",
    "data.head()"
   ]
  },
  {
   "cell_type": "code",
   "execution_count": null,
   "id": "1dce19bc-d18d-4c29-b905-3b06be86ef3b",
   "metadata": {},
   "outputs": [
    {
     "name": "stderr",
     "output_type": "stream",
     "text": [
      "[nltk_data] Downloading package punkt to\n",
      "[nltk_data]     C:\\Users\\Manis\\AppData\\Roaming\\nltk_data...\n",
      "[nltk_data]   Package punkt is already up-to-date!\n",
      "[nltk_data] Downloading package stopwords to\n",
      "[nltk_data]     C:\\Users\\Manis\\AppData\\Roaming\\nltk_data...\n",
      "[nltk_data]   Package stopwords is already up-to-date!\n"
     ]
    }
   ],
   "source": [
    "nltk.download('punkt')\n",
    "nltk.download('stopwords')\n",
    "stop_words = set(stopwords.words('english'))\n",
    "stemmer = PorterStemmer()"
   ]
  },
  {
   "cell_type": "code",
   "execution_count": null,
   "id": "0782e550-e682-4a36-88d4-d27311a730c9",
   "metadata": {},
   "outputs": [
    {
     "data": {
      "text/html": [
       "<div>\n",
       "<style scoped>\n",
       "    .dataframe tbody tr th:only-of-type {\n",
       "        vertical-align: middle;\n",
       "    }\n",
       "\n",
       "    .dataframe tbody tr th {\n",
       "        vertical-align: top;\n",
       "    }\n",
       "\n",
       "    .dataframe thead th {\n",
       "        text-align: right;\n",
       "    }\n",
       "</style>\n",
       "<table border=\"1\" class=\"dataframe\">\n",
       "  <thead>\n",
       "    <tr style=\"text-align: right;\">\n",
       "      <th></th>\n",
       "      <th>text</th>\n",
       "      <th>cleaned_text</th>\n",
       "    </tr>\n",
       "  </thead>\n",
       "  <tbody>\n",
       "    <tr>\n",
       "      <th>0</th>\n",
       "      <td>@switchfoot http://twitpic.com/2y1zl - Awww, t...</td>\n",
       "      <td>@ switchfoot http : //twitpic.com/2y1zl - awww...</td>\n",
       "    </tr>\n",
       "    <tr>\n",
       "      <th>1</th>\n",
       "      <td>is upset that he can't update his Facebook by ...</td>\n",
       "      <td>upset ca n't updat facebook text ... might cri...</td>\n",
       "    </tr>\n",
       "    <tr>\n",
       "      <th>2</th>\n",
       "      <td>@Kenichan I dived many times for the ball. Man...</td>\n",
       "      <td>@ kenichan dive mani time ball . manag save 50...</td>\n",
       "    </tr>\n",
       "    <tr>\n",
       "      <th>3</th>\n",
       "      <td>my whole body feels itchy and like its on fire</td>\n",
       "      <td>whole bodi feel itchi like fire</td>\n",
       "    </tr>\n",
       "    <tr>\n",
       "      <th>4</th>\n",
       "      <td>@nationwideclass no, it's not behaving at all....</td>\n",
       "      <td>@ nationwideclass , 's behav . 'm mad . ? ca n...</td>\n",
       "    </tr>\n",
       "  </tbody>\n",
       "</table>\n",
       "</div>"
      ],
      "text/plain": [
       "                                                text  \\\n",
       "0  @switchfoot http://twitpic.com/2y1zl - Awww, t...   \n",
       "1  is upset that he can't update his Facebook by ...   \n",
       "2  @Kenichan I dived many times for the ball. Man...   \n",
       "3    my whole body feels itchy and like its on fire    \n",
       "4  @nationwideclass no, it's not behaving at all....   \n",
       "\n",
       "                                        cleaned_text  \n",
       "0  @ switchfoot http : //twitpic.com/2y1zl - awww...  \n",
       "1  upset ca n't updat facebook text ... might cri...  \n",
       "2  @ kenichan dive mani time ball . manag save 50...  \n",
       "3                    whole bodi feel itchi like fire  \n",
       "4  @ nationwideclass , 's behav . 'm mad . ? ca n...  "
      ]
     },
     "execution_count": 4,
     "metadata": {},
     "output_type": "execute_result"
    }
   ],
   "source": [
    "data['tokens'] = data['text'].apply(lambda x: word_tokenize(x.lower()))\n",
    "data['tokens'] = data['tokens'].apply(lambda x: [word for word in x if word not in stop_words])\n",
    "data['tokens'] = data['tokens'].apply(lambda x: [stemmer.stem(word) for word in x])\n",
    "data['cleaned_text'] = data['tokens'].apply(lambda x: ' '.join(x))\n",
    "\n",
    "data[['text', 'cleaned_text']].head()"
   ]
  },
  {
   "cell_type": "code",
   "execution_count": null,
   "id": "40d0d21a-b6ab-41fc-83c2-1bc4dfede790",
   "metadata": {},
   "outputs": [],
   "source": [
    "tfidf = TfidfVectorizer()\n",
    "X = tfidf.fit_transform(data['cleaned_text'])\n",
    "y = data['polarity']\n",
    "\n",
    "X_train, X_test, y_train, y_test = train_test_split(X, y, test_size=0.2, random_state=42)"
   ]
  },
  {
   "cell_type": "code",
   "execution_count": null,
   "id": "602ad3e4-e098-489b-8a56-2062354d287b",
   "metadata": {},
   "outputs": [
    {
     "name": "stdout",
     "output_type": "stream",
     "text": [
      "Model Accuracy: 0.78\n"
     ]
    }
   ],
   "source": [
    "model = LogisticRegression(max_iter=1000)\n",
    "model.fit(X_train, y_train)\n",
    "\n",
    "y_pred = model.predict(X_test)\n",
    "accuracy = accuracy_score(y_test, y_pred)\n",
    "print(f\"Model Accuracy: {accuracy:.2f}\")"
   ]
  },
  {
   "cell_type": "code",
   "execution_count": null,
   "id": "89f07a9d-ecb0-446a-bc7e-4ea289ea9bc5",
   "metadata": {},
   "outputs": [],
   "source": [
    "def predict_sentiment(text):\n",
    "    tokens = word_tokenize(text.lower())\n",
    "    tokens = [stemmer.stem(word) for word in tokens if word not in stop_words]\n",
    "    text_vector = tfidf.transform([' '.join(tokens)])\n",
    "    sentiment = model.predict(text_vector)\n",
    "    return sentiment[0]"
   ]
  },
  {
   "cell_type": "code",
   "execution_count": null,
   "id": "5649b004-e3d2-4d8d-b7c5-117e061cee56",
   "metadata": {},
   "outputs": [],
   "source": [
    "def chatbot_response(user_input):\n",
    "    sentiment = predict_sentiment(user_input)\n",
    "    if sentiment == 'positive':\n",
    "        return \"I'm glad you're feeling positive!\"\n",
    "    elif sentiment == 'negative':\n",
    "        return \"I'm sorry you're feeling down. How can I help?\"\n",
    "    else:\n",
    "        return \"Thanks for sharing!\""
   ]
  },
  {
   "cell_type": "code",
   "execution_count": null,
   "id": "0ce5265f-f62e-402e-8432-3aeca2465ecc",
   "metadata": {},
   "outputs": [
    {
     "name": "stdout",
     "output_type": "stream",
     "text": [
      "User: I absolutely love this new feature!\n",
      "Chatbot: I'm glad you're feeling positive!\n",
      "\n",
      "User: This is the worst experience I've ever had.\n",
      "Chatbot: I'm sorry you're feeling down. How can I help?\n",
      "\n",
      "User: I don't have strong feelings about this.\n",
      "Chatbot: I'm sorry you're feeling down. How can I help?\n",
      "\n",
      "User: I'm so excited about the upcoming events!\n",
      "Chatbot: I'm glad you're feeling positive!\n",
      "\n",
      "User: I feel really down today.\n",
      "Chatbot: I'm sorry you're feeling down. How can I help?\n",
      "\n",
      "User: It's okay, nothing special.\n",
      "Chatbot: I'm glad you're feeling positive!\n",
      "\n"
     ]
    }
   ],
   "source": [
    "def test_chatbot(custom_inputs):\n",
    "    for input_text in custom_inputs:\n",
    "        response = chatbot_response(input_text)\n",
    "        print(f\"User: {input_text}\\nChatbot: {response}\\n\")\n",
    "\n",
    "custom_inputs = [\n",
    "    \"I absolutely love this new feature!\",\n",
    "    \"This is the worst experience I've ever had.\",\n",
    "    \"I don't have strong feelings about this.\",\n",
    "    \"I'm so excited about the upcoming events!\",\n",
    "    \"I feel really down today.\",\n",
    "    \"It's okay, nothing special.\"\n",
    "]\n",
    "\n",
    "test_chatbot(custom_inputs)"
   ]
  }
 ],
 "metadata": {
  "kernelspec": {
   "display_name": "Python 3 (ipykernel)",
   "language": "python",
   "name": "python3"
  },
  "language_info": {
   "codemirror_mode": {
    "name": "ipython",
    "version": 3
   },
   "file_extension": ".py",
   "mimetype": "text/x-python",
   "name": "python",
   "nbconvert_exporter": "python",
   "pygments_lexer": "ipython3",
   "version": "3.12.4"
  }
 },
 "nbformat": 4,
 "nbformat_minor": 5
}
